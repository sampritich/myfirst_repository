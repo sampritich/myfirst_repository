{
  "nbformat": 4,
  "nbformat_minor": 0,
  "metadata": {
    "kernelspec": {
      "display_name": "Python 3",
      "language": "python",
      "name": "python3"
    },
    "language_info": {
      "codemirror_mode": {
        "name": "ipython",
        "version": 3
      },
      "file_extension": ".py",
      "mimetype": "text/x-python",
      "name": "python",
      "nbconvert_exporter": "python",
      "pygments_lexer": "ipython3",
      "version": "3.6.7"
    },
    "colab": {
      "name": "04-Stop-Words.ipynb",
      "provenance": [],
      "include_colab_link": true
    }
  },
  "cells": [
    {
      "cell_type": "markdown",
      "metadata": {
        "id": "view-in-github",
        "colab_type": "text"
      },
      "source": [
        "<a href=\"https://colab.research.google.com/github/sampritich/myfirst_repository/blob/master/04_Stop_Words.ipynb\" target=\"_parent\"><img src=\"https://colab.research.google.com/assets/colab-badge.svg\" alt=\"Open In Colab\"/></a>"
      ]
    },
    {
      "cell_type": "markdown",
      "metadata": {
        "id": "hEMYosEBOZje",
        "colab_type": "text"
      },
      "source": [
        "___\n",
        "\n",
        "<a href='http://www.pieriandata.com'> <img src='../Pierian_Data_Logo.png' /></a>\n",
        "___"
      ]
    },
    {
      "cell_type": "markdown",
      "metadata": {
        "id": "ioSFBJ_hOZjg",
        "colab_type": "text"
      },
      "source": [
        "# Stop Words\n",
        "Words like \"a\" and \"the\" appear so frequently that they don't require tagging as thoroughly as nouns, verbs and modifiers. We call these *stop words*, and they can be filtered from the text to be processed. spaCy holds a built-in list of some 305 English stop words."
      ]
    },
    {
      "cell_type": "code",
      "metadata": {
        "id": "Kc6cuAI3OZji",
        "colab_type": "code",
        "colab": {}
      },
      "source": [
        "# Perform standard imports:\n",
        "import spacy\n",
        "nlp = spacy.load('en_core_web_sm')"
      ],
      "execution_count": 0,
      "outputs": []
    },
    {
      "cell_type": "code",
      "metadata": {
        "id": "ackIFrUMOZjm",
        "colab_type": "code",
        "colab": {
          "base_uri": "https://localhost:8080/",
          "height": 54
        },
        "outputId": "85a34ede-1faa-49dc-a0d3-1117cd3f5f20"
      },
      "source": [
        "# Print the set of spaCy's default stop words (remember that sets are unordered):\n",
        "print(nlp.Defaults.stop_words)"
      ],
      "execution_count": 2,
      "outputs": [
        {
          "output_type": "stream",
          "text": [
            "{'otherwise', 'would', 'beyond', 'doing', \"n't\", 'unless', 'hers', 'nine', 'us', 'fifteen', 'whereafter', 'hereby', 'without', 'afterwards', 'three', 'when', 'using', 'whatever', 'whereupon', 'get', 'someone', 'of', 'much', 'sixty', 'thence', 'myself', 'very', 'few', 'amongst', 'via', 'perhaps', 'around', 'between', 'anyhow', 'among', 'former', 'now', 'while', 'during', 'was', 'your', 'though', '‘re', 'several', 'four', 'also', 'move', 'sometimes', 'give', 'be', 'see', 'alone', 'first', 'but', 'beforehand', 'itself', 'within', 'me', 'n‘t', 'else', 'then', '’s', 'nothing', 'besides', 'almost', 'should', 'same', 'yourselves', 'into', \"'s\", 'through', 'none', 'been', 'how', 'an', 'only', 'yourself', 'her', 'them', 'yet', '’re', 'they', 'others', 'those', 'our', 'up', 'what', 'here', 'to', 'keep', 'nowhere', \"'ll\", 'where', 'below', 'indeed', 'every', 'had', 'him', '’m', 'used', 'along', 'anything', 'over', 'fifty', 'less', 'next', 'nobody', 'seemed', 'eight', 'cannot', 'two', 'something', 'with', 'own', 'their', 'have', 'call', 'formerly', 'has', 'part', 'latterly', 'more', 'nor', 'various', 'even', 'all', 'its', 'twenty', 'already', 'himself', 'neither', 'therein', 'whenever', 'however', 'so', 'nevertheless', 'take', 'latter', '‘ve', 'whose', 'mine', 'well', 'before', 'although', '‘s', 'another', 'either', 'most', 'being', 'mostly', 'empty', 'if', 'always', 'quite', 'too', 'twelve', 'which', 'whither', 'who', 'at', 'after', 'last', 'since', 'as', 'did', 'for', 'front', \"'d\", 'hereupon', 'no', 're', 'onto', \"'m\", 'does', 'throughout', 'some', 'such', 'thus', 'whoever', '’d', 'anyway', 'again', 'never', 'often', 'show', 'there', 'under', 'might', 'whereas', 'themselves', 'top', 'on', 'above', 'anywhere', 'amount', '‘ll', 'moreover', 'are', 'forty', 'still', 'could', 'why', 'it', 'sometime', 'hundred', 'across', 'whence', 'five', 'will', 'am', 'until', 'say', 'off', 'toward', 'n’t', 'each', 'his', 'wherein', 'a', 'against', 'everything', 'make', 'about', '‘m', '‘d', 'made', 'were', 'whether', 'can', 'than', 'everyone', 'rather', 'whereby', \"'re\", 'anyone', 'bottom', 'she', \"'ve\", 'hereafter', 'many', 'beside', 'back', 'third', 'serious', 'must', 'ourselves', 'become', 'may', 'thereafter', 'these', 'we', 'except', 'everywhere', 'behind', 'seems', 'down', 'not', 'do', 'thereupon', '’ll', 'due', 'one', 'any', 'meanwhile', 'eleven', 'this', 'wherever', 'other', 'yours', 'herself', 'becoming', 'please', 'by', 'because', 'seem', 'ca', 'ours', 'therefore', 'once', 'became', 'in', 'together', 'you', 'full', 'seeming', 'the', 'that', 'thru', 'herein', 'elsewhere', 'namely', 'further', 'noone', 'per', 'is', 'put', 'thereby', 'my', 'towards', '’ve', 'go', 'out', 'ten', 'both', 'whole', 'enough', 'ever', 'becomes', 'somehow', 'and', 'he', 'i', 'least', 'done', 'just', 'or', 'side', 'whom', 'name', 'really', 'somewhere', 'from', 'hence', 'six', 'upon', 'regarding'}\n"
          ],
          "name": "stdout"
        }
      ]
    },
    {
      "cell_type": "code",
      "metadata": {
        "id": "tj61bURPOZjq",
        "colab_type": "code",
        "colab": {
          "base_uri": "https://localhost:8080/",
          "height": 34
        },
        "outputId": "5eb53dbd-17a5-4da1-af2b-a0e7fb157a8a"
      },
      "source": [
        "len(nlp.Defaults.stop_words)"
      ],
      "execution_count": 3,
      "outputs": [
        {
          "output_type": "execute_result",
          "data": {
            "text/plain": [
              "326"
            ]
          },
          "metadata": {
            "tags": []
          },
          "execution_count": 3
        }
      ]
    },
    {
      "cell_type": "markdown",
      "metadata": {
        "id": "pDRp4yYROZju",
        "colab_type": "text"
      },
      "source": [
        "## To see if a word is a stop word"
      ]
    },
    {
      "cell_type": "code",
      "metadata": {
        "id": "fsrtkpldOZjw",
        "colab_type": "code",
        "colab": {
          "base_uri": "https://localhost:8080/",
          "height": 34
        },
        "outputId": "3885a81e-91d6-4bf1-ec7b-7d042c5f264b"
      },
      "source": [
        "nlp.vocab['myself'].is_stop"
      ],
      "execution_count": 6,
      "outputs": [
        {
          "output_type": "execute_result",
          "data": {
            "text/plain": [
              "True"
            ]
          },
          "metadata": {
            "tags": []
          },
          "execution_count": 6
        }
      ]
    },
    {
      "cell_type": "code",
      "metadata": {
        "id": "jX8nYHxKOZj3",
        "colab_type": "code",
        "colab": {},
        "outputId": "51d25005-6c49-4bce-d786-5bdd57232a20"
      },
      "source": [
        "nlp.vocab['mystery'].is_stop"
      ],
      "execution_count": 0,
      "outputs": [
        {
          "output_type": "execute_result",
          "data": {
            "text/plain": [
              "False"
            ]
          },
          "metadata": {
            "tags": []
          },
          "execution_count": 5
        }
      ]
    },
    {
      "cell_type": "code",
      "metadata": {
        "id": "qGttHXg5OqNe",
        "colab_type": "code",
        "colab": {
          "base_uri": "https://localhost:8080/",
          "height": 34
        },
        "outputId": "4789aeb5-eabd-42b8-fd9a-7a2628f1247a"
      },
      "source": [
        "nlp.vocab['btw'].is_stop"
      ],
      "execution_count": 7,
      "outputs": [
        {
          "output_type": "execute_result",
          "data": {
            "text/plain": [
              "False"
            ]
          },
          "metadata": {
            "tags": []
          },
          "execution_count": 7
        }
      ]
    },
    {
      "cell_type": "markdown",
      "metadata": {
        "id": "VL42EQPxOZj7",
        "colab_type": "text"
      },
      "source": [
        "## To add a stop word\n",
        "There may be times when you wish to add a stop word to the default set. Perhaps you decide that `'btw'` (common shorthand for \"by the way\") should be considered a stop word."
      ]
    },
    {
      "cell_type": "code",
      "metadata": {
        "id": "lZBLvN1qOZj9",
        "colab_type": "code",
        "colab": {}
      },
      "source": [
        "# Add the word to the set of stop words. Use lowercase!\n",
        "nlp.Defaults.stop_words.add('btw')\n",
        "\n",
        "# Set the stop_word tag on the lexeme\n",
        "nlp.vocab['btw'].is_stop = True"
      ],
      "execution_count": 0,
      "outputs": []
    },
    {
      "cell_type": "code",
      "metadata": {
        "id": "aPIoE7WmOZkA",
        "colab_type": "code",
        "colab": {},
        "outputId": "f16abfaa-272d-4664-bf70-fac8b2106655"
      },
      "source": [
        "len(nlp.Defaults.stop_words)"
      ],
      "execution_count": 0,
      "outputs": [
        {
          "output_type": "execute_result",
          "data": {
            "text/plain": [
              "306"
            ]
          },
          "metadata": {
            "tags": []
          },
          "execution_count": 7
        }
      ]
    },
    {
      "cell_type": "code",
      "metadata": {
        "id": "nqA5oEF7OZkF",
        "colab_type": "code",
        "colab": {},
        "outputId": "9e4dd981-1085-424c-f69a-dacdaf389f7c"
      },
      "source": [
        "nlp.vocab['btw'].is_stop"
      ],
      "execution_count": 0,
      "outputs": [
        {
          "output_type": "execute_result",
          "data": {
            "text/plain": [
              "True"
            ]
          },
          "metadata": {
            "tags": []
          },
          "execution_count": 8
        }
      ]
    },
    {
      "cell_type": "markdown",
      "metadata": {
        "id": "LxXwDxRGOZkK",
        "colab_type": "text"
      },
      "source": [
        "<font color=green>When adding stop words, always use lowercase. Lexemes are converted to lowercase before being added to **vocab**.</font>"
      ]
    },
    {
      "cell_type": "markdown",
      "metadata": {
        "id": "uHW6ruHFOZkL",
        "colab_type": "text"
      },
      "source": [
        "## To remove a stop word\n",
        "Alternatively, you may decide that `'beyond'` should not be considered a stop word."
      ]
    },
    {
      "cell_type": "code",
      "metadata": {
        "id": "zsjhfZvvOZkM",
        "colab_type": "code",
        "colab": {}
      },
      "source": [
        "# Remove the word from the set of stop words\n",
        "nlp.Defaults.stop_words.remove('beyond')\n",
        "\n",
        "# Remove the stop_word tag from the lexeme\n",
        "nlp.vocab['beyond'].is_stop = False"
      ],
      "execution_count": 0,
      "outputs": []
    },
    {
      "cell_type": "code",
      "metadata": {
        "id": "FhBbGaN2OZkP",
        "colab_type": "code",
        "colab": {},
        "outputId": "7b5ebb97-6a3a-4a18-b633-9b5862b46257"
      },
      "source": [
        "len(nlp.Defaults.stop_words)"
      ],
      "execution_count": 0,
      "outputs": [
        {
          "output_type": "execute_result",
          "data": {
            "text/plain": [
              "305"
            ]
          },
          "metadata": {
            "tags": []
          },
          "execution_count": 10
        }
      ]
    },
    {
      "cell_type": "code",
      "metadata": {
        "id": "UBLkwZL3OZkT",
        "colab_type": "code",
        "colab": {},
        "outputId": "39fa1d53-177d-47f4-d208-7a265b7e3dda"
      },
      "source": [
        "nlp.vocab['beyond'].is_stop"
      ],
      "execution_count": 0,
      "outputs": [
        {
          "output_type": "execute_result",
          "data": {
            "text/plain": [
              "False"
            ]
          },
          "metadata": {
            "tags": []
          },
          "execution_count": 11
        }
      ]
    },
    {
      "cell_type": "markdown",
      "metadata": {
        "id": "8fHDNxxTOZkY",
        "colab_type": "text"
      },
      "source": [
        "Great! Now you should be able to access spaCy's default set of stop words, and add or remove stop words as needed.\n",
        "## Next up: Vocabulary and Matching"
      ]
    }
  ]
}