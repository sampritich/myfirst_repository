{
  "nbformat": 4,
  "nbformat_minor": 0,
  "metadata": {
    "kernelspec": {
      "name": "python3",
      "display_name": "Python 3"
    },
    "language_info": {
      "codemirror_mode": {
        "name": "ipython",
        "version": 3
      },
      "file_extension": ".py",
      "mimetype": "text/x-python",
      "name": "python",
      "nbconvert_exporter": "python",
      "pygments_lexer": "ipython3",
      "version": "3.6.2"
    },
    "colab": {
      "name": "06-NLP-Basics-Assessment.ipynb",
      "provenance": [],
      "toc_visible": true,
      "include_colab_link": true
    },
    "accelerator": "GPU"
  },
  "cells": [
    {
      "cell_type": "markdown",
      "metadata": {
        "id": "view-in-github",
        "colab_type": "text"
      },
      "source": [
        "<a href=\"https://colab.research.google.com/github/sampritich/myfirst_repository/blob/master/06_NLP_Basics_Assessment.ipynb\" target=\"_parent\"><img src=\"https://colab.research.google.com/assets/colab-badge.svg\" alt=\"Open In Colab\"/></a>"
      ]
    },
    {
      "cell_type": "markdown",
      "metadata": {
        "id": "Ul4T4tQPZpeT",
        "colab_type": "text"
      },
      "source": [
        "___\n",
        "\n",
        "<a href='http://www.pieriandata.com'> <img src='../Pierian_Data_Logo.png' /></a>\n",
        "___"
      ]
    },
    {
      "cell_type": "markdown",
      "metadata": {
        "id": "Zxm_49cyZpeX",
        "colab_type": "text"
      },
      "source": [
        "# NLP Basics Assessment"
      ]
    },
    {
      "cell_type": "markdown",
      "metadata": {
        "id": "ed_EO83bZpeY",
        "colab_type": "text"
      },
      "source": [
        "For this assessment we'll be using the short story [_An Occurrence at Owl Creek Bridge_](https://en.wikipedia.org/wiki/An_Occurrence_at_Owl_Creek_Bridge) by Ambrose Bierce (1890). <br>The story is in the public domain; the text file was obtained from [Project Gutenberg](https://www.gutenberg.org/ebooks/375.txt.utf-8)."
      ]
    },
    {
      "cell_type": "code",
      "metadata": {
        "id": "F5FJaAdOZpea",
        "colab_type": "code",
        "colab": {}
      },
      "source": [
        "# RUN THIS CELL to perform standard imports:\n",
        "import spacy\n",
        "nlp = spacy.load('en_core_web_sm')"
      ],
      "execution_count": 0,
      "outputs": []
    },
    {
      "cell_type": "code",
      "metadata": {
        "id": "67lOFiQea2e0",
        "colab_type": "code",
        "colab": {
          "base_uri": "https://localhost:8080/",
          "height": 427
        },
        "outputId": "51e1ba3a-da60-4ff2-878b-ece3bb0ba5a2"
      },
      "source": [
        "!wget https://www.dropbox.com/s/0pgzoth8lgeyjwp/TextFiles_for_nlp.zip"
      ],
      "execution_count": 3,
      "outputs": [
        {
          "output_type": "stream",
          "text": [
            "--2020-01-04 11:59:11--  https://www.dropbox.com/s/0pgzoth8lgeyjwp/TextFiles_for_nlp.zip\n",
            "Resolving www.dropbox.com (www.dropbox.com)... 162.125.1.1, 2620:100:601b:1::a27d:801\n",
            "Connecting to www.dropbox.com (www.dropbox.com)|162.125.1.1|:443... connected.\n",
            "HTTP request sent, awaiting response... 301 Moved Permanently\n",
            "Location: /s/raw/0pgzoth8lgeyjwp/TextFiles_for_nlp.zip [following]\n",
            "--2020-01-04 11:59:17--  https://www.dropbox.com/s/raw/0pgzoth8lgeyjwp/TextFiles_for_nlp.zip\n",
            "Reusing existing connection to www.dropbox.com:443.\n",
            "HTTP request sent, awaiting response... 302 Found\n",
            "Location: https://uc74b082e96b3cb73a2f3969d4ff.dl.dropboxusercontent.com/cd/0/inline/AvgOwze3fi9Bmqyo5LNnEFCiM6HhSUOciFRyQVSS2fQepaMhSlUDx8OQiwkwfsZ9M5KY5m8IPn7IJO1MFNpzp5OIUacKG-okw_tke0hrpK8Lttc5gxvOinCXg9uHtbvQbVg/file# [following]\n",
            "--2020-01-04 11:59:17--  https://uc74b082e96b3cb73a2f3969d4ff.dl.dropboxusercontent.com/cd/0/inline/AvgOwze3fi9Bmqyo5LNnEFCiM6HhSUOciFRyQVSS2fQepaMhSlUDx8OQiwkwfsZ9M5KY5m8IPn7IJO1MFNpzp5OIUacKG-okw_tke0hrpK8Lttc5gxvOinCXg9uHtbvQbVg/file\n",
            "Resolving uc74b082e96b3cb73a2f3969d4ff.dl.dropboxusercontent.com (uc74b082e96b3cb73a2f3969d4ff.dl.dropboxusercontent.com)... 162.125.1.6, 2620:100:6016:6::a27d:106\n",
            "Connecting to uc74b082e96b3cb73a2f3969d4ff.dl.dropboxusercontent.com (uc74b082e96b3cb73a2f3969d4ff.dl.dropboxusercontent.com)|162.125.1.6|:443... connected.\n",
            "HTTP request sent, awaiting response... 302 FOUND\n",
            "Location: /cd/0/inline2/Avi4lV0uM1f9DEiFZKneWv4P1d7nItZ5LDEnO8ir5XcM8HyQXn0IW3x-8j8pYzZ3r7KNdkyfmtb6VwWP0JrnqcN3eUecrCVwakyQUWCZqTAicx0BKXWCMXppKiQ_HhuWCrfyXIvpgU2rPzkb20cEkUh18BPRrWxX2CT0KiVBpwAz__mBLuyD07zx9bEq2GFOcp2Nd1ruXEzHP0BngXvOMPBkiAqKAMasGe-lZxZkUP2j1qbAl-xP2QKUS3Grxb8P_97UOmsWpmCwbMPShdfRClMe6avKineRTPCkI3-4uHDPcHcp6-EKzTAv2b45_Hh9axk7Wogm24YpmvagPHAQ6MkqpNobn8n8qpSgb4pTQ6C8Gw/file [following]\n",
            "--2020-01-04 11:59:17--  https://uc74b082e96b3cb73a2f3969d4ff.dl.dropboxusercontent.com/cd/0/inline2/Avi4lV0uM1f9DEiFZKneWv4P1d7nItZ5LDEnO8ir5XcM8HyQXn0IW3x-8j8pYzZ3r7KNdkyfmtb6VwWP0JrnqcN3eUecrCVwakyQUWCZqTAicx0BKXWCMXppKiQ_HhuWCrfyXIvpgU2rPzkb20cEkUh18BPRrWxX2CT0KiVBpwAz__mBLuyD07zx9bEq2GFOcp2Nd1ruXEzHP0BngXvOMPBkiAqKAMasGe-lZxZkUP2j1qbAl-xP2QKUS3Grxb8P_97UOmsWpmCwbMPShdfRClMe6avKineRTPCkI3-4uHDPcHcp6-EKzTAv2b45_Hh9axk7Wogm24YpmvagPHAQ6MkqpNobn8n8qpSgb4pTQ6C8Gw/file\n",
            "Reusing existing connection to uc74b082e96b3cb73a2f3969d4ff.dl.dropboxusercontent.com:443.\n",
            "HTTP request sent, awaiting response... 200 OK\n",
            "Length: 7866279 (7.5M) [application/zip]\n",
            "Saving to: ‘TextFiles_for_nlp.zip’\n",
            "\n",
            "TextFiles_for_nlp.z 100%[===================>]   7.50M  10.9MB/s    in 0.7s    \n",
            "\n",
            "2020-01-04 11:59:19 (10.9 MB/s) - ‘TextFiles_for_nlp.zip’ saved [7866279/7866279]\n",
            "\n"
          ],
          "name": "stdout"
        }
      ]
    },
    {
      "cell_type": "code",
      "metadata": {
        "id": "1SMRyDwWbI6D",
        "colab_type": "code",
        "colab": {
          "base_uri": "https://localhost:8080/",
          "height": 228
        },
        "outputId": "6961c383-ae34-446a-ec7b-9df35269de3d"
      },
      "source": [
        "!unzip TextFiles_for_nlp.zip"
      ],
      "execution_count": 4,
      "outputs": [
        {
          "output_type": "stream",
          "text": [
            "Archive:  TextFiles_for_nlp.zip\n",
            "  inflating: TextFiles/amazonreviews.tsv  \n",
            "  inflating: TextFiles/elon_tweets.txt  \n",
            "  inflating: TextFiles/elon_tweets2.txt  \n",
            "  inflating: TextFiles/huckfinn.txt  \n",
            "  inflating: TextFiles/moviereviews.tsv  \n",
            "  inflating: TextFiles/moviereviews2.tsv  \n",
            "  inflating: TextFiles/owlcreek.txt  \n",
            "  inflating: TextFiles/peterrabbit.txt  \n",
            "  inflating: TextFiles/reaganomics.txt  \n",
            "  inflating: TextFiles/reuters.csv   \n",
            "  inflating: TextFiles/sms_readme.txt  \n",
            "  inflating: TextFiles/smsspamcollection.tsv  \n"
          ],
          "name": "stdout"
        }
      ]
    },
    {
      "cell_type": "markdown",
      "metadata": {
        "id": "FsO116vSZpee",
        "colab_type": "text"
      },
      "source": [
        "**1. Create a Doc object from the file `owlcreek.txt`**<br>\n",
        "> HINT: Use `with open('../TextFiles/owlcreek.txt') as f:`"
      ]
    },
    {
      "cell_type": "code",
      "metadata": {
        "id": "j1hvRXSTZpef",
        "colab_type": "code",
        "colab": {}
      },
      "source": [
        "# Enter your code here:\n",
        "with open('/content/TextFiles/owlcreek.txt', encoding='unicode_escape') as f:\n",
        "    doc = nlp(f.read())"
      ],
      "execution_count": 0,
      "outputs": []
    },
    {
      "cell_type": "code",
      "metadata": {
        "id": "xRZvVnpBZpej",
        "colab_type": "code",
        "colab": {
          "base_uri": "https://localhost:8080/",
          "height": 147
        },
        "outputId": "40172331-2bcc-46c5-e8b6-2533cad57895"
      },
      "source": [
        "# Run this cell to verify it worked:\n",
        "\n",
        "doc[:36]"
      ],
      "execution_count": 43,
      "outputs": [
        {
          "output_type": "execute_result",
          "data": {
            "text/plain": [
              "AN OCCURRENCE AT OWL CREEK BRIDGE\n",
              "\n",
              "by Ambrose Bierce\n",
              "\n",
              "I\n",
              "\n",
              "A man stood upon a railroad bridge in northern Alabama, looking down\n",
              "into the swift water twenty feet below.  "
            ]
          },
          "metadata": {
            "tags": []
          },
          "execution_count": 43
        }
      ]
    },
    {
      "cell_type": "markdown",
      "metadata": {
        "id": "K96GUcBRZpep",
        "colab_type": "text"
      },
      "source": [
        "**2. How many tokens are contained in the file?**"
      ]
    },
    {
      "cell_type": "code",
      "metadata": {
        "id": "96EmT3mxZpeq",
        "colab_type": "code",
        "colab": {
          "base_uri": "https://localhost:8080/",
          "height": 33
        },
        "outputId": "66cb2e8d-3889-4595-ca51-737d61932d4e"
      },
      "source": [
        "len(doc)"
      ],
      "execution_count": 44,
      "outputs": [
        {
          "output_type": "execute_result",
          "data": {
            "text/plain": [
              "4833"
            ]
          },
          "metadata": {
            "tags": []
          },
          "execution_count": 44
        }
      ]
    },
    {
      "cell_type": "markdown",
      "metadata": {
        "id": "7b8q1xZsZpet",
        "colab_type": "text"
      },
      "source": [
        "**3. How many sentences are contained in the file?**<br>HINT: You'll want to build a list first!"
      ]
    },
    {
      "cell_type": "code",
      "metadata": {
        "id": "emZcNShoZpeu",
        "colab_type": "code",
        "colab": {
          "base_uri": "https://localhost:8080/",
          "height": 115
        },
        "outputId": "3e040046-0f2f-40d4-b633-c2f96186c15c"
      },
      "source": [
        "#c=0\n",
        "for i in range(c):\n",
        "  #print(i)\n",
        "  i=i+1\n",
        "  for sent in doc.sents:\n",
        "    if i==2:\n",
        "      print('after',i)\n",
        "      print(sent)\n",
        "      break\n",
        "      \n",
        "    \n",
        "\n",
        "\n"
      ],
      "execution_count": 74,
      "outputs": [
        {
          "output_type": "stream",
          "text": [
            "after 2\n",
            "AN OCCURRENCE AT OWL CREEK BRIDGE\n",
            "\n",
            "by Ambrose Bierce\n",
            "\n",
            "\n"
          ],
          "name": "stdout"
        }
      ]
    },
    {
      "cell_type": "code",
      "metadata": {
        "id": "Cgt9eZLchpzg",
        "colab_type": "code",
        "colab": {
          "base_uri": "https://localhost:8080/",
          "height": 50
        },
        "outputId": "bc1507df-5f04-4a7e-e542-d20eb5a195c9"
      },
      "source": [
        "d=0\n",
        "for sent in doc.sents:\n",
        "  #print(d,sent)\n",
        "  if d==2:\n",
        "    print(sent)\n",
        "  d=d+1\n",
        "  \n",
        " \n",
        "\n",
        "\n",
        "  "
      ],
      "execution_count": 79,
      "outputs": [
        {
          "output_type": "stream",
          "text": [
            "A man stood upon a railroad bridge in northern Alabama, looking down\n",
            "into the swift water twenty feet below.  \n"
          ],
          "name": "stdout"
        }
      ]
    },
    {
      "cell_type": "code",
      "metadata": {
        "id": "3vF2sxWVf1oF",
        "colab_type": "code",
        "colab": {
          "base_uri": "https://localhost:8080/",
          "height": 33
        },
        "outputId": "151ea9ee-c162-4e8c-e290-6896b370a6a5"
      },
      "source": [
        "c=0\n",
        "for sent in doc.sents:\n",
        "  print(sent)\n",
        "  a=sent\n",
        "  #print('before',c)\n",
        "  c=c+1\n",
        "  #print('after',c)\n",
        "\n",
        "print(c)"
      ],
      "execution_count": 52,
      "outputs": [
        {
          "output_type": "stream",
          "text": [
            "222\n"
          ],
          "name": "stdout"
        }
      ]
    },
    {
      "cell_type": "code",
      "metadata": {
        "id": "SVENR4uwdv_0",
        "colab_type": "code",
        "colab": {
          "base_uri": "https://localhost:8080/",
          "height": 33
        },
        "outputId": "a2dc0607-e4ac-4360-ee2b-e6d833425bed"
      },
      "source": [
        "sents = [sent for sent in doc.sents]\n",
        "len(sents)\n",
        "type(sents)"
      ],
      "execution_count": 45,
      "outputs": [
        {
          "output_type": "execute_result",
          "data": {
            "text/plain": [
              "list"
            ]
          },
          "metadata": {
            "tags": []
          },
          "execution_count": 45
        }
      ]
    },
    {
      "cell_type": "markdown",
      "metadata": {
        "id": "q4DtrSjLZpex",
        "colab_type": "text"
      },
      "source": [
        "**4. Print the second sentence in the document**<br> HINT: Indexing starts at zero, and the title counts as the first sentence."
      ]
    },
    {
      "cell_type": "code",
      "metadata": {
        "id": "NDmgCwXlZpez",
        "colab_type": "code",
        "colab": {
          "base_uri": "https://localhost:8080/",
          "height": 50
        },
        "outputId": "d4c8fd86-7ca7-446f-ba2c-f83f2d178896"
      },
      "source": [
        "c=0\n",
        "for sent in doc.sents:\n",
        "  #print(sent)\n",
        "  a=sent\n",
        "  #print('before',c)\n",
        "  c=c+1\n",
        "  #print('after',c)\n",
        "\n",
        "#print(c)\n",
        "d=0\n",
        "for sent in doc.sents:\n",
        "  #print(d,sent)\n",
        "  if d==2:\n",
        "    print(sent)\n",
        "  d=d+1"
      ],
      "execution_count": 81,
      "outputs": [
        {
          "output_type": "stream",
          "text": [
            "A man stood upon a railroad bridge in northern Alabama, looking down\n",
            "into the swift water twenty feet below.  \n"
          ],
          "name": "stdout"
        }
      ]
    },
    {
      "cell_type": "markdown",
      "metadata": {
        "id": "s6QuFhzuZpe4",
        "colab_type": "text"
      },
      "source": [
        "** 5. For each token in the sentence above, print its `text`, `POS` tag, `dep` tag and `lemma`<br>\n",
        "CHALLENGE: Have values line up in columns in the print output.**"
      ]
    },
    {
      "cell_type": "code",
      "metadata": {
        "id": "tektTGiTZpe6",
        "colab_type": "code",
        "colab": {
          "base_uri": "https://localhost:8080/",
          "height": 423
        },
        "outputId": "fb078b92-a0b8-4608-8599-9f52d9545507"
      },
      "source": [
        "# NORMAL SOLUTION:\n",
        "sents = [sent for sent in doc.sents]\n",
        "len(sents)\n",
        "for token in sents[2]:\n",
        "    print(token.text, token.pos_, token.dep_, token.lemma_)\n"
      ],
      "execution_count": 84,
      "outputs": [
        {
          "output_type": "stream",
          "text": [
            "A DET det a\n",
            "man NOUN nsubj man\n",
            "stood VERB ROOT stand\n",
            "upon ADP prep upon\n",
            "a DET det a\n",
            "railroad NOUN compound railroad\n",
            "bridge NOUN pobj bridge\n",
            "in ADP prep in\n",
            "northern ADJ amod northern\n",
            "Alabama PROPN pobj Alabama\n",
            ", PUNCT punct ,\n",
            "looking VERB advcl look\n",
            "down ADV advmod down\n",
            "\n",
            " SPACE  \n",
            "\n",
            "into ADP prep into\n",
            "the DET det the\n",
            "swift ADJ amod swift\n",
            "water NOUN pobj water\n",
            "twenty NUM nummod twenty\n",
            "feet NOUN npadvmod foot\n",
            "below ADV advmod below\n",
            ". PUNCT punct .\n",
            "  SPACE   \n"
          ],
          "name": "stdout"
        }
      ]
    },
    {
      "cell_type": "code",
      "metadata": {
        "id": "3sP_V9dEZpe-",
        "colab_type": "code",
        "colab": {
          "base_uri": "https://localhost:8080/",
          "height": 423
        },
        "outputId": "2ab05be9-f813-49c5-a0b4-e8c4a8c7a94d"
      },
      "source": [
        "# CHALLENGE SOLUTION:\n",
        "for token in sents[2]:\n",
        "    print(f'{token.text:{15}} {token.pos_:{5}} {token.dep_:{10}} {token.lemma_:{15}}')"
      ],
      "execution_count": 88,
      "outputs": [
        {
          "output_type": "stream",
          "text": [
            "A               DET   det        a              \n",
            "man             NOUN  nsubj      man            \n",
            "stood           VERB  ROOT       stand          \n",
            "upon            ADP   prep       upon           \n",
            "a               DET   det        a              \n",
            "railroad        NOUN  compound   railroad       \n",
            "bridge          NOUN  pobj       bridge         \n",
            "in              ADP   prep       in             \n",
            "northern        ADJ   amod       northern       \n",
            "Alabama         PROPN pobj       Alabama        \n",
            ",               PUNCT punct      ,              \n",
            "looking         VERB  advcl      look           \n",
            "down            ADV   advmod     down           \n",
            "\n",
            "               SPACE            \n",
            "              \n",
            "into            ADP   prep       into           \n",
            "the             DET   det        the            \n",
            "swift           ADJ   amod       swift          \n",
            "water           NOUN  pobj       water          \n",
            "twenty          NUM   nummod     twenty         \n",
            "feet            NOUN  npadvmod   foot           \n",
            "below           ADV   advmod     below          \n",
            ".               PUNCT punct      .              \n",
            "                SPACE                           \n"
          ],
          "name": "stdout"
        }
      ]
    },
    {
      "cell_type": "markdown",
      "metadata": {
        "id": "Poy7t5gBZpfB",
        "colab_type": "text"
      },
      "source": [
        "**6. Write a matcher called 'Swimming' that finds both occurrences of the phrase \"swimming vigorously\" in the text**<br>\n",
        "HINT: You should include an `'IS_SPACE': True` pattern between the two words!"
      ]
    },
    {
      "cell_type": "code",
      "metadata": {
        "id": "sLKG0Kp7ZpfC",
        "colab_type": "code",
        "colab": {}
      },
      "source": [
        "# Import the Matcher library:\n",
        "\n",
        "from spacy.matcher import Matcher\n",
        "matcher = Matcher(nlp.vocab)"
      ],
      "execution_count": 0,
      "outputs": []
    },
    {
      "cell_type": "code",
      "metadata": {
        "id": "blJfUEzaZpfF",
        "colab_type": "code",
        "colab": {}
      },
      "source": [
        "# Create a pattern and add it to matcher:\n",
        "\n",
        "\n",
        "\n"
      ],
      "execution_count": 0,
      "outputs": []
    },
    {
      "cell_type": "code",
      "metadata": {
        "id": "KQN8krgHZpfJ",
        "colab_type": "code",
        "colab": {},
        "outputId": "480de32f-c410-4fdc-d1a7-9c7f52e54a6f"
      },
      "source": [
        "# Create a list of matches called \"found_matches\" and print the list:\n",
        "\n",
        "\n"
      ],
      "execution_count": 0,
      "outputs": [
        {
          "output_type": "stream",
          "text": [
            "[(12881893835109366681, 1274, 1277), (12881893835109366681, 3607, 3610)]\n"
          ],
          "name": "stdout"
        }
      ]
    },
    {
      "cell_type": "markdown",
      "metadata": {
        "id": "dryv0DAwZpfM",
        "colab_type": "text"
      },
      "source": [
        "**7. Print the text surrounding each found match**"
      ]
    },
    {
      "cell_type": "code",
      "metadata": {
        "id": "uYERs8YUZpfN",
        "colab_type": "code",
        "colab": {},
        "outputId": "26517da6-7580-4c20-a79f-6fadd1512ef9"
      },
      "source": [
        ""
      ],
      "execution_count": 0,
      "outputs": [
        {
          "output_type": "stream",
          "text": [
            "By diving I could evade the bullets and, swimming\n",
            "vigorously, reach the bank, take to the woods and get away home\n"
          ],
          "name": "stdout"
        }
      ]
    },
    {
      "cell_type": "code",
      "metadata": {
        "id": "19YCsgP5ZpfQ",
        "colab_type": "code",
        "colab": {},
        "outputId": "01a0a54e-967d-4f14-b0ca-734b670adc42"
      },
      "source": [
        ""
      ],
      "execution_count": 0,
      "outputs": [
        {
          "output_type": "stream",
          "text": [
            "over his shoulder; he was now swimming\n",
            "vigorously with the current.  \n"
          ],
          "name": "stdout"
        }
      ]
    },
    {
      "cell_type": "markdown",
      "metadata": {
        "id": "zCeTQuq8ZpfU",
        "colab_type": "text"
      },
      "source": [
        "**EXTRA CREDIT:<br>Print the *sentence* that contains each found match**"
      ]
    },
    {
      "cell_type": "code",
      "metadata": {
        "id": "N2a0GxoRZpfV",
        "colab_type": "code",
        "colab": {},
        "outputId": "0970cae9-2f48-4ae0-acda-8ca226d59466"
      },
      "source": [
        "\n",
        "\n",
        "\n"
      ],
      "execution_count": 0,
      "outputs": [
        {
          "output_type": "stream",
          "text": [
            "By diving I could evade the bullets and, swimming\n",
            "vigorously, reach the bank, take to the woods and get away home.  \n"
          ],
          "name": "stdout"
        }
      ]
    },
    {
      "cell_type": "code",
      "metadata": {
        "id": "whnlcrJDZpfZ",
        "colab_type": "code",
        "colab": {},
        "outputId": "f5f73c31-1fd6-4b2f-ad90-6d7bfe3e625c"
      },
      "source": [
        "\n",
        "\n",
        "\n"
      ],
      "execution_count": 0,
      "outputs": [
        {
          "output_type": "stream",
          "text": [
            "The hunted man saw all this over his shoulder; he was now swimming\n",
            "vigorously with the current.  \n"
          ],
          "name": "stdout"
        }
      ]
    },
    {
      "cell_type": "markdown",
      "metadata": {
        "id": "VnepwAaeZpfc",
        "colab_type": "text"
      },
      "source": [
        "### Great Job!"
      ]
    }
  ]
}